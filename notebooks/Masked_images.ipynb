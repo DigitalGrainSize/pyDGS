{
 "cells": [
  {
   "cell_type": "markdown",
   "metadata": {},
   "source": [
    "# DGS on masked images\n",
    "\n",
    "DGS is designed to work on images of granular material. Things other than grains in the image can cause large errors, because the algorithm using signal processing techniques on the image intensity.\n",
    "\n"
   ]
  },
  {
   "cell_type": "code",
   "execution_count": null,
   "metadata": {},
   "outputs": [],
   "source": [
    "import DGS\n",
    "import matplotlib.pyplot as plt"
   ]
  },
  {
   "cell_type": "markdown",
   "metadata": {},
   "source": [
    "### Processing settings"
   ]
  },
  {
   "cell_type": "code",
   "execution_count": null,
   "metadata": {},
   "outputs": [],
   "source": [
    "density = 2 # process every 2 lines\n",
    "resolution = 1 # mm/pixel, i.e. no scale\n",
    "dofilter =1 # filter the image\n",
    "notes = 8 # notes per octave\n",
    "maxscale = 8 #Max scale as inverse fraction of data length\n",
    "verbose = 1 # print stuff to screen\n",
    "x = 1 #no area to volume conversion"
   ]
  },
  {
   "cell_type": "markdown",
   "metadata": {},
   "source": [
    "### Work on unmasked image"
   ]
  },
  {
   "cell_type": "code",
   "execution_count": null,
   "metadata": {
    "scrolled": true
   },
   "outputs": [],
   "source": [
    "image_file = '20170724_105025.jpg'\n",
    "dgs_stats1 = DGS.dgs(image_file, density, resolution, dofilter, maxscale, notes, verbose, x)"
   ]
  },
  {
   "cell_type": "markdown",
   "metadata": {},
   "source": [
    "### Work on masked image"
   ]
  },
  {
   "cell_type": "code",
   "execution_count": null,
   "metadata": {},
   "outputs": [],
   "source": [
    "image_file = '20170724_105025_masked.jpg'\n",
    "dgs_stats2 = DGS.dgs(image_file, density, resolution, dofilter, maxscale, notes, verbose, x)"
   ]
  },
  {
   "cell_type": "code",
   "execution_count": null,
   "metadata": {},
   "outputs": [],
   "source": []
  },
  {
   "cell_type": "code",
   "execution_count": null,
   "metadata": {},
   "outputs": [],
   "source": [
    "%matplotlib inline\n",
    "\n",
    "plt.plot(dgs_stats1['grain size bins'], dgs_stats1['grain size frequencies'], 'k-o', label='Original')\n",
    "plt.plot(dgs_stats2['grain size bins'], dgs_stats2['grain size frequencies'], 'r-s', label='Masked')\n",
    "plt.legend()\n",
    "plt.xlabel('Grain Size [pixels]')\n",
    "plt.ylabel('Normalized frequency [-]')"
   ]
  },
  {
   "cell_type": "code",
   "execution_count": null,
   "metadata": {},
   "outputs": [],
   "source": []
  }
 ],
 "metadata": {
  "kernelspec": {
   "display_name": "Python (dgs)",
   "language": "python",
   "name": "dgs"
  },
  "language_info": {
   "codemirror_mode": {
    "name": "ipython",
    "version": 3
   },
   "file_extension": ".py",
   "mimetype": "text/x-python",
   "name": "python",
   "nbconvert_exporter": "python",
   "pygments_lexer": "ipython3",
   "version": "3.7.0"
  }
 },
 "nbformat": 4,
 "nbformat_minor": 2
}
